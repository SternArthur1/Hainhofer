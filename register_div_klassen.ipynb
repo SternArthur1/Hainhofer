{
 "cells": [
  {
   "cell_type": "code",
   "execution_count": 1,
   "id": "f3f5f434",
   "metadata": {},
   "outputs": [
    {
     "ename": "OSError",
     "evalue": "Error reading file 'register.xhtml': failed to load external entity \"register.xhtml\"",
     "output_type": "error",
     "traceback": [
      "\u001b[1;31m---------------------------------------------------------------------------\u001b[0m",
      "\u001b[1;31mOSError\u001b[0m                                   Traceback (most recent call last)",
      "Cell \u001b[1;32mIn[1], line 6\u001b[0m\n\u001b[0;32m      3\u001b[0m \u001b[38;5;28;01mfrom\u001b[39;00m\u001b[38;5;250m \u001b[39m\u001b[38;5;21;01mlxml\u001b[39;00m\u001b[38;5;250m \u001b[39m\u001b[38;5;28;01mimport\u001b[39;00m etree\n\u001b[0;32m      5\u001b[0m \u001b[38;5;66;03m# XHTML parsen\u001b[39;00m\n\u001b[1;32m----> 6\u001b[0m tree \u001b[38;5;241m=\u001b[39m \u001b[43metree\u001b[49m\u001b[38;5;241;43m.\u001b[39;49m\u001b[43mparse\u001b[49m\u001b[43m(\u001b[49m\u001b[38;5;124;43m'\u001b[39;49m\u001b[38;5;124;43mregister.xhtml\u001b[39;49m\u001b[38;5;124;43m'\u001b[39;49m\u001b[43m)\u001b[49m\n\u001b[0;32m      8\u001b[0m \u001b[38;5;66;03m# Definition des Namespaces (wie im Ausgangsdokument)\u001b[39;00m\n\u001b[0;32m      9\u001b[0m ns \u001b[38;5;241m=\u001b[39m {\u001b[38;5;124m'\u001b[39m\u001b[38;5;124mx\u001b[39m\u001b[38;5;124m'\u001b[39m: \u001b[38;5;124m'\u001b[39m\u001b[38;5;124mhttp://www.w3.org/1999/xhtml\u001b[39m\u001b[38;5;124m'\u001b[39m}\n",
      "File \u001b[1;32msrc\\\\lxml\\\\etree.pyx:3590\u001b[0m, in \u001b[0;36mlxml.etree.parse\u001b[1;34m()\u001b[0m\n",
      "File \u001b[1;32msrc\\\\lxml\\\\parser.pxi:1958\u001b[0m, in \u001b[0;36mlxml.etree._parseDocument\u001b[1;34m()\u001b[0m\n",
      "File \u001b[1;32msrc\\\\lxml\\\\parser.pxi:1984\u001b[0m, in \u001b[0;36mlxml.etree._parseDocumentFromURL\u001b[1;34m()\u001b[0m\n",
      "File \u001b[1;32msrc\\\\lxml\\\\parser.pxi:1887\u001b[0m, in \u001b[0;36mlxml.etree._parseDocFromFile\u001b[1;34m()\u001b[0m\n",
      "File \u001b[1;32msrc\\\\lxml\\\\parser.pxi:1200\u001b[0m, in \u001b[0;36mlxml.etree._BaseParser._parseDocFromFile\u001b[1;34m()\u001b[0m\n",
      "File \u001b[1;32msrc\\\\lxml\\\\parser.pxi:633\u001b[0m, in \u001b[0;36mlxml.etree._ParserContext._handleParseResultDoc\u001b[1;34m()\u001b[0m\n",
      "File \u001b[1;32msrc\\\\lxml\\\\parser.pxi:743\u001b[0m, in \u001b[0;36mlxml.etree._handleParseResult\u001b[1;34m()\u001b[0m\n",
      "File \u001b[1;32msrc\\\\lxml\\\\parser.pxi:670\u001b[0m, in \u001b[0;36mlxml.etree._raiseParseError\u001b[1;34m()\u001b[0m\n",
      "\u001b[1;31mOSError\u001b[0m: Error reading file 'register.xhtml': failed to load external entity \"register.xhtml\""
     ]
    }
   ],
   "source": [
    "# Aufgabe: Es müssen möglichst alle <div>-Klassen aus dem Register extrahiert werden\n",
    "\n",
    "from lxml import etree\n",
    "\n",
    "# XHTML parsen\n",
    "tree = etree.parse('register.xhtml')\n",
    "\n",
    "# Definition des Namespaces (wie im Ausgangsdokument)\n",
    "ns = {'x': 'http://www.w3.org/1999/xhtml'}\n",
    "\n",
    "# Suche nach allen Klassen der <div>-Tags\n",
    "divs_with_class = tree.xpath('//x:div[@class]', namespaces=ns)\n",
    "\n",
    "# Erstellung eines Sets\n",
    "unique_classes = {div.attrib['class'] for div in divs_with_class}\n",
    "\n",
    "# Alphabetisch geordnete Wertausgabe\n",
    "for classes in sorted(unique_classes):\n",
    "    print(classes)"
   ]
  }
 ],
 "metadata": {
  "kernelspec": {
   "display_name": "Python 3",
   "language": "python",
   "name": "python3"
  },
  "language_info": {
   "codemirror_mode": {
    "name": "ipython",
    "version": 3
   },
   "file_extension": ".py",
   "mimetype": "text/x-python",
   "name": "python",
   "nbconvert_exporter": "python",
   "pygments_lexer": "ipython3",
   "version": "3.13.2"
  }
 },
 "nbformat": 4,
 "nbformat_minor": 5
}
