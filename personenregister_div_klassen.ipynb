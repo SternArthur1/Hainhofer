{
 "cells": [
  {
   "cell_type": "code",
   "execution_count": 1,
   "id": "275bd027",
   "metadata": {},
   "outputs": [
    {
     "name": "stdout",
     "output_type": "stream",
     "text": [
      "authorcontainer\n",
      "bibldesc\n",
      "bio\n",
      "birthdeath\n",
      "caption\n",
      "categorycontainer\n",
      "commentary\n",
      "contains\n",
      "containscontainer\n",
      "creatorcontainer\n",
      "date\n",
      "depictscontainer\n",
      "desc\n",
      "entry\n",
      "faithcontainer\n",
      "floruit\n",
      "hasmemberscontainer\n",
      "imagecontainer\n",
      "images\n",
      "indexcreator\n",
      "isdepictedcontainer\n",
      "islocationcontainer\n",
      "ismembercontainer\n",
      "license\n",
      "links\n",
      "litcontainer\n",
      "localidno\n",
      "locationcontainer\n",
      "material\n",
      "measure\n",
      "occurrences\n",
      "occurrencescontainer\n",
      "org\n",
      "plc\n",
      "residencecontainer\n",
      "tagscontainer\n",
      "uricontainer\n",
      "variantcontainer\n"
     ]
    }
   ],
   "source": [
    "# Aufgabe: Es müssen möglichst viele Personenangaben (Name, Lebensjahre, Konfession) aus dem Register extrahiert werden\n",
    "\n",
    "from lxml import etree\n",
    "\n",
    "# XHTML-Dokument zergliledern\n",
    "tree = etree.parse('personenregister.xhtml')\n",
    "\n",
    "# Definition des Namespaces (wie im Ausgangsdokument)\n",
    "ns = {'x': 'http://www.w3.org/1999/xhtml'}\n",
    "\n",
    "# Suche nach allen Klassen der <div>-Tags\n",
    "divs_with_class = tree.xpath('//x:div[@class]', namespaces=ns)\n",
    "\n",
    "# Erstellung eines Sets zwecks der Elinimierung von Wiederholungen\n",
    "unique_classes = set()\n",
    "\n",
    "# Einfügung der Einzelwerte in den Set\n",
    "for div in divs_with_class:\n",
    "    class_attr = div.attrib['class']\n",
    "    unique_classes.add(class_attr)\n",
    "\n",
    "# Alphabetisch geordnete Wertausgabe\n",
    "for cls in sorted(unique_classes):\n",
    "    print(cls)"
   ]
  }
 ],
 "metadata": {
  "kernelspec": {
   "display_name": "Python 3",
   "language": "python",
   "name": "python3"
  },
  "language_info": {
   "codemirror_mode": {
    "name": "ipython",
    "version": 3
   },
   "file_extension": ".py",
   "mimetype": "text/x-python",
   "name": "python",
   "nbconvert_exporter": "python",
   "pygments_lexer": "ipython3",
   "version": "3.13.2"
  }
 },
 "nbformat": 4,
 "nbformat_minor": 5
}
