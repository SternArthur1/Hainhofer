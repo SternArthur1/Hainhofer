{
 "cells": [
  {
   "cell_type": "code",
   "execution_count": null,
   "id": "4586bba5",
   "metadata": {},
   "outputs": [
    {
     "name": "stdout",
     "output_type": "stream",
     "text": [
      "{'Augustinerorden': 'augustinerorden', 'Bibliotheca Palatina': 'bibliotheca_palatina', 'Domstift Augsburg': 'domstift_augsburg', 'Dominikanerorden': 'dominikanerorden', 'Domkapitel Eichstätt': 'domkapitel_eichstaett', 'Deutscher Orden': 'deutscher_orden', 'Franziskanerorden': 'franziskanerorden', 'Generalstände (Frankreich)': 'generalstaende_frankreich', 'Gürtelbruderschaft des hl. Franziskus': 'guertelbruderschaft_des_hl_franziskus', 'Hochstift Eichstätt': 'hochstift_eichstaett', 'Heiliges Römisches Reich': 'heiliges_roemisches_reich', 'Herzoglicher/Kurfürstlicher Rat (Bayern)': 'rat_herzoglicher_bayern', 'Hieronymitenorden': 'hieronymitenorden', 'Hofgericht zu Rottweil (Heiliges Römisches Reich)': 'hofgericht_rottweil', 'Jesuitenorden': 'jesuitenorden', 'Johanniter': 'johanniter', 'Kapuzinerorden': 'kapuzinerorden', 'Kartäuserorden': 'kartaeuserorden', 'Katholische Liga': 'katholische_liga', 'Kurfürstenkollegium': 'Kurfürstenkollegium', 'Kurfürstentag': 'kurfuerstentag', 'Kurfürstentum Mainz. Kanzlei': 'kurfuerstentum_mainz_kanzlei', 'Münchner Kunstkammer': 'muenchen_kunstkammer', 'Magistrat der Stadt München': 'muenchen_magistrat', 'Most Noble Order of the Garter': 'most_noble_order_garter', 'Orden vom Goldenen Vlies': 'orden_goldenes_vlies', 'Protestantische Union': 'protestantische_union', 'Reichstag (Heiliges Römisches Reich)': 'reichstag', 'Reichsfürstenrat (Heiliges Römisches Reich)': 'reichsfuerstenrat', 'Reichshofrat (Heiliges Römisches Reich)': 'reichshofrat', 'Reichskreis (Heiliges Römisches Reich)': 'reichskreis', 'Reichsstände (Heiliges Römisches Reich)': 'reichsstaende', 'Reichskammergericht (Heiliges Römisches Reich)': 'reichskammergericht', 'Rat der Stadt Aachen': 'rat_aachen', 'Rat der Stadt Augsburg': 'rat_augsburg', 'Rat der Stadt Frankfurt am Main': 'rat_frankfurt', 'Rat der Stadt Nürnberg': 'rat_nuernberg', 'Rat der Stadt Regensburg': 'rat_regensburg', 'Schmalkaldischer Bund': 'schmalkaldischer_bund', 'Sejm': 'sejm', 'Universitas Magistrorum et Scholarium Parisiensis': 'universitas_magistrorum_et_scholarium_parisiensis', 'Universität Ingolstadt': 'universitaet_ingolstadt', 'Universität Dillingen': 'universitaet_dillingen', 'Universität Rostock': 'universitaet_rostock', 'Wetterauisches Reichsgrafenkollegium': 'wetterauisches_reichsgrafenkollegium'}\n"
     ]
    }
   ],
   "source": [
    "# Körperschaftsregister Hainhofer\n",
    "\n",
    "from lxml import etree as ET\n",
    "import pandas as pd\n",
    "\n",
    "# Load XML file\n",
    "file_path = 'hainhofer-lod.xml'\n",
    "tree = ET.parse(file_path)\n",
    "root = tree.getroot()\n",
    "\n",
    "# Define namespaces\n",
    "namespaces = {\n",
    "    'tei': 'http://www.tei-c.org/ns/1.0',\n",
    "    \"schema\": \"http://schema.org/\",\n",
    "    \"rdf\": \"http://www.w3.org/1999/02/22-rdf-syntax-ns#\",\n",
    "    \"rdfs\": \"http://www.w3.org/2000/01/rdf-schema#\"\n",
    "}\n",
    "\n",
    "# The base URL you want to filter for\n",
    "base_url = \"https://hainhofer.hab.de/register/koerperschaftsregister/\"\n",
    "\n",
    "# Result dictionary\n",
    "organization_to_org = {}\n",
    "\n",
    "# Loop through all rdf:Description elements\n",
    "for orgname in root.findall(\".//rdf:Description\", namespaces):\n",
    "    organization = orgname.find(\"rdfs:label\", namespaces)\n",
    "    org = orgname.find(\"schema:mainEntityOfPage\", namespaces)\n",
    "\n",
    "    # Iterate only through the relevant elements\n",
    "    if organization is None or org is None or not org.text.startswith(base_url):\n",
    "        continue  # Skip this entry if any part is missing or URL doesn't match the prefix\n",
    "\n",
    "    # Remove the URL prefix and store the result\n",
    "    url = org.text[57:]\n",
    "    organization_to_org[organization.text] = url\n",
    "\n",
    "# Output the final result\n",
    "print(organization_to_org)\n",
    "\n",
    "# Save the result to an output file\n",
    "df = pd.DataFrame(list(organization_to_org.items()), columns=['organization', 'org'])\n",
    "df.to_excel('register_koerperschaften_org.xlsx', index=False)\n",
    "df.to_csv('register_koerperschaften_org.csv', index=False)"
   ]
  }
 ],
 "metadata": {
  "kernelspec": {
   "display_name": "Python 3",
   "language": "python",
   "name": "python3"
  },
  "language_info": {
   "codemirror_mode": {
    "name": "ipython",
    "version": 3
   },
   "file_extension": ".py",
   "mimetype": "text/x-python",
   "name": "python",
   "nbconvert_exporter": "python",
   "pygments_lexer": "ipython3",
   "version": "3.13.2"
  }
 },
 "nbformat": 4,
 "nbformat_minor": 5
}
