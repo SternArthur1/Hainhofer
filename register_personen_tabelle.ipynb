{
 "cells": [
  {
   "cell_type": "code",
   "execution_count": null,
   "id": "275bd027",
   "metadata": {},
   "outputs": [
    {
     "name": "stdout",
     "output_type": "stream",
     "text": [
      "Number of psn_divs found: 1\n",
      "Number of entries found: 0\n",
      "Empty DataFrame\n",
      "Columns: []\n",
      "Index: []\n"
     ]
    }
   ],
   "source": [
    "# Aufgabe: Es müssen möglichst viele Personenangaben (Name, Lebensjahre, Konfession) aus dem Register extrahiert werden\n",
    "\n",
    "from lxml import etree\n",
    "\n",
    "import pandas as pd\n",
    "\n",
    "# XHTML parsen\n",
    "tree = etree.parse('register.xhtml')\n",
    "\n",
    "# Definition des Namespaces (derselbe wie im Ausgangsdokument)\n",
    "ns = {'x': 'http://www.w3.org/1999/xhtml'}\n",
    "\n",
    "entries = tree.xpath('//x:div[@id=\"psn\" and @class=\"entry\"]', namespaces=ns)\n",
    "\n",
    "persons = []\n",
    "for person in persons:\n",
    "    persons.extend(person.xpath('.//x:div[@class=\"entry\"]', namespaces=ns))\n",
    "\n",
    "for entry in entries:\n",
    "    name = entry.xpath('.//x:h1[@class=\"prefname\"]/text()', namespaces=ns)\n",
    "    name = name[0].strip() if name else None\n",
    "    variantcontainer = entry.xpath('//x:p[@class=\"variantname\"]/text()', namespaces=ns)\n",
    "    variantcontainer = variantcontainer[0].strip() if variantcontainer else None\n",
    "    birthdeath_text = entry.xpath('//x:div[@class=\"birthdeath\"]/text()', namespaces=ns)\n",
    "    birthdeath_text = birthdeath_text[0].strip() if birthdeath_text else None\n",
    "    faithcontainer = entry.xpath('//x:div[@class=\"faithcontainer\"]/text()', namespaces=ns)\n",
    "    faithcontainer = faithcontainer[0].strip() if faithcontainer else None\n",
    "\n",
    "    # Saubere Trennung der Daten\n",
    "    if birthdeath_text:\n",
    "        if \"*\" in birthdeath_text and \"✝\" in birthdeath_text:\n",
    "            birth_year = birthdeath_text.split(\"*\")[1].split(\"✝\")[0].strip()\n",
    "            death_year = birthdeath_text.split(\"✝\")[1].strip()\n",
    "        elif \"*\" in birthdeath_text:\n",
    "            birth_year = birthdeath_text.split(\"*\")[1].strip()\n",
    "            death_year = None\n",
    "        elif \"✝\" in birthdeath_text:\n",
    "            birth_year = None\n",
    "            death_year = birthdeath_text.split(\"✝\")[1].strip()\n",
    "        else:\n",
    "            birth_year = death_year = None\n",
    "    else:\n",
    "        birth_year = death_year = None\n",
    "\n",
    "    persons.append({\n",
    "        \"Name\": name,\n",
    "        \"Andere Namen\": variantcontainer,\n",
    "        \"Geburtsjahr\": birth_year,\n",
    "        \"Sterbejahr\": death_year,\n",
    "        \"Konfession\": faithcontainer\n",
    "    })\n",
    "\n",
    "# Tabelle erstellen\n",
    "df = pd.DataFrame(entries)\n",
    "print(df)\n",
    "df = pd.DataFrame(persons)\n"
   ]
  },
  {
   "cell_type": "code",
   "execution_count": null,
   "id": "941ff6b6",
   "metadata": {},
   "outputs": [],
   "source": [
    "        \"Autor von\": authorcontainer,\n",
    "        \"Weitere Angaben\": bio,\n",
    "        \"Kategorien\": categorycontainer,\n",
    "        \"Kommentar\": commentary,\n",
    "        \"Urheber von\": creatorcontainer,\n",
    "        \"Wirkungsdaten\": floruit,\n",
    "        \"Mitglieder\": hasmemberscontainer,\n",
    "        \"Ist dargestellt in\": isdepictedcontainer,\n",
    "        \"Ist Mitglied von\": ismembercontainer,\n",
    "        \"Literatur\": litcontainer,\n",
    "        \"Vorkommen im Text\": occurrencescontainer,\n",
    "        \"Externe Ressourcen\": uricontainer"
   ]
  }
 ],
 "metadata": {
  "kernelspec": {
   "display_name": "Python 3",
   "language": "python",
   "name": "python3"
  },
  "language_info": {
   "codemirror_mode": {
    "name": "ipython",
    "version": 3
   },
   "file_extension": ".py",
   "mimetype": "text/x-python",
   "name": "python",
   "nbconvert_exporter": "python",
   "pygments_lexer": "ipython3",
   "version": "3.13.2"
  }
 },
 "nbformat": 4,
 "nbformat_minor": 5
}
