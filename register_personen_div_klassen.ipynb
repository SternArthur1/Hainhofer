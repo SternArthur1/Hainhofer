{
 "cells": [
  {
   "cell_type": "code",
   "execution_count": 44,
   "id": "1f02c429",
   "metadata": {},
   "outputs": [
    {
     "name": "stdout",
     "output_type": "stream",
     "text": [
      "authorcontainer\n",
      "bio\n",
      "birthdeath\n",
      "categorycontainer\n",
      "commentary\n",
      "creatorcontainer\n",
      "entry\n",
      "faithcontainer\n",
      "floruit\n",
      "hasmemberscontainer\n",
      "isdepictedcontainer\n",
      "ismembercontainer\n",
      "litcontainer\n",
      "occurrencescontainer\n",
      "uricontainer\n",
      "variantcontainer\n"
     ]
    }
   ],
   "source": [
    "# Aufgabe: Es müssen möglichst viele Personenangaben (Name, Lebensjahre, Konfession) aus dem Register extrahiert werden\n",
    "\n",
    "from lxml import etree\n",
    "\n",
    "# XHTML parsen\n",
    "tree = etree.parse('register.xhtml')\n",
    "\n",
    "# XHTML-Namespace definieren (derselbe wie im Ausgangsdokument)\n",
    "ns = {'x': 'http://www.w3.org/1999/xhtml'}\n",
    "\n",
    "# Suche nach Personeneinträgen (Ausgabe in Form einer Liste)\n",
    "psn_divs = tree.xpath('//x:div[@id=\"psn\"]', namespaces=ns)\n",
    "\n",
    "# Suche nach allen Klassen der Div-Tags innerhalb der gefundenen Personeneinträge\n",
    "divs_with_class = psn_div.xpath('.//x:div[@class]', namespaces=ns)\n",
    "\n",
    "# Erstellung eines Sets mit Einzelwerten\n",
    "unique_classes = {div.attrib['class'] for div in divs_with_class}\n",
    "\n",
    "# Alphabetisch geordnete Wertausgabe\n",
    "for classes in sorted(unique_classes):\n",
    "    print(classes)"
   ]
  }
 ],
 "metadata": {
  "kernelspec": {
   "display_name": "Python 3",
   "language": "python",
   "name": "python3"
  },
  "language_info": {
   "codemirror_mode": {
    "name": "ipython",
    "version": 3
   },
   "file_extension": ".py",
   "mimetype": "text/x-python",
   "name": "python",
   "nbconvert_exporter": "python",
   "pygments_lexer": "ipython3",
   "version": "3.13.2"
  }
 },
 "nbformat": 4,
 "nbformat_minor": 5
}
