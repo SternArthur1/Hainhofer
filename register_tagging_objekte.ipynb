{
 "cells": [
  {
   "cell_type": "code",
   "execution_count": null,
   "id": "fce3aa1b",
   "metadata": {},
   "outputs": [],
   "source": [
    "# Objektregister Hainhofer\n",
    "\n",
    "from lxml import etree as ET\n",
    "\n",
    "# Load XML file\n",
    "file_path = 'hainhofer-lod.xml'\n",
    "tree = ET.parse(file_path)\n",
    "root = tree.getroot()\n",
    "\n",
    "# Define namespaces\n",
    "namespaces = {\n",
    "    'tei': 'http://www.tei-c.org/ns/1.0',\n",
    "    \"schema\": \"http://schema.org/\",\n",
    "    \"rdf\": \"http://www.w3.org/1999/02/22-rdf-syntax-ns#\",\n",
    "    \"rdfs\": \"http://www.w3.org/2000/01/rdf-schema#\"\n",
    "}\n",
    "\n",
    "# The base URL you want to filter for\n",
    "base_url = \"https://hainhofer.hab.de/register/objekte/\"\n",
    "\n",
    "# Result dictionary\n",
    "object_to_wrk = {}\n",
    "\n",
    "# Loop through all rdf:Description elements\n",
    "for objectname in root.findall(\".//rdf:Description\", namespaces):\n",
    "    object = objectname.find(\"rdfs:label\", namespaces)\n",
    "    wrk = objectname.find(\"schema:mainEntityOfPage\", namespaces)\n",
    "\n",
    "    # Iterate only through the relevant elements\n",
    "    if object is None or wrk is None or not wrk.text.startswith(base_url):\n",
    "        continue  # Skip this entry if any part is missing or URL doesn't match the prefix\n",
    "\n",
    "    # Remove the URL prefix and store the result\n",
    "    url = wrk.text[42:]\n",
    "    object_to_wrk[object.text] = url\n",
    "\n",
    "# Output the final result\n",
    "print(object_to_wrk)\n",
    "\n",
    "# Save the result to a file"
   ]
  }
 ],
 "metadata": {
  "language_info": {
   "name": "python"
  }
 },
 "nbformat": 4,
 "nbformat_minor": 5
}
