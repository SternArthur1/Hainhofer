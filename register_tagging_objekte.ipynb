{
 "cells": [
  {
   "cell_type": "code",
   "execution_count": null,
   "id": "fce3aa1b",
   "metadata": {},
   "outputs": [
    {
     "name": "stdout",
     "output_type": "stream",
     "text": [
      "{'Mömpelgarder Altar': 'stuttgart_moempelgarder_altar', 'Stuttgart, Alte Kanzlei': 'stuttgart_alte_kanzlei', 'Stuttgart, Altes Schloss': 'stuttgart_altes_schloss', 'München, Residenz, Antiquarium': 'muenchen_antiquarium', 'Ingolstadt, Augustinerkirche St. Maria': 'ingolstadt_augustinerkirche_st_maria', 'Kloster Hirsau, Benediktinerkloster mit Kirche St. Peter und Paul': 'hirsau_benediktinerkloster_peter_paul', 'Bibliothek Herzog Augusts d. J.': 'bibliothek_august_02', 'Tübingen, Bibliothek der Universität Tübingen': 'tuebingen_bibliothek', 'Regensburg, Bischofshof': 'regensburg_bischofshof', 'Nürnberg, Burg': 'burg_nuernberg', 'Camminer Schrein mit Reliquie der hl. Cordula': 'camminer_schrein', 'Dachau, Schloss Dachau': 'dachau_schloss', 'Dachau, Schloss Dachau, Hofgarten': 'dachau_schloss_hofgarten', 'Augsburg, Dom Mariä Heimsuchung': 'augsburg_dom', 'Mainz, Dom St. Martin und Stephan': 'mainz_dom', 'Speyer, Dom St. Maria und Stephan': 'speyer_dom', 'Eichstätt, Dom St. Salvator, Unsere Liebe Frau und St. Willibald': 'eichstaett_dom', 'Dornenkrone': 'dornenkrone', 'Englischer Gruß': 'englischer_gruss', 'El Escorial': 'escorial', 'Ingolstadt, Franziskanerkirche Mariä Himmelfahrt': 'ingolstadt_franziskanerkirche', 'Regensburg, Franziskanerkloster mit Kirche St. Salvator': 'regenburg_franziskanerkloster', 'München, Frauenkirche': 'muenchen_frauenkirche', 'Eichstätt, Fürstbischöfliche Residenz': 'eichstaett_residenz', 'Gemäldesammlung im Schloss Heidelberg': 'heidelberg_gemaeldesammlung', 'Statuette des Ritters St. Georg': 'muenchen_georg', 'Neuburg an der Donau, Gestüt Rohrenfeld': 'gestuet_rohrenfeld', 'Goldene Bulle': 'goldene_bulle', 'Grabdenkmal Kaiser Maximilians I.': 'innsbruck_grabdenkmal_maximilian_01_hrr', 'München, Residenz, Grottenhof der Residenz': 'muenchen_grottenhof', 'Ingolstadt, Heilig Geist (Spitalkirche)': 'ingolstadt_heilig_geist', 'Augsburg, Heilig Kreuz (Stift und Stiftskirche)': 'heilig_kreuz_augsburg', 'München, Herzog-Max-Burg': 'muenchen_herzog-max-burg', 'Hochaltar der Jesuitenkirche München': 'muenchen_hochaltar_der_jesuitenkirche', 'München, Alter Hof': 'muenchen_alter_hof', 'München, Alter Hof, Hofbibliothek': 'muenchen_hofbibliothek', 'Innsbruck, Residenzkomplex, Hofburg': 'innsbruck_hofburg', 'München, Residenz, Hofgarten und ältere Lustgärten': 'muenchen_hofgarten', 'Innsbruck, Hofkirche Heilig Kreuz': 'innsbruck_hofkirche', 'Neuburg an der Donau, Hofkirche Mariä Himmelfahrt': 'neuburg_hofkirche', 'Stuttgart, Hospitalkirche Unserer Lieben Frau': 'stuttgart_hospitalkirche', 'Neuburg an der Donau, Jagdschloss Grünau': 'neuburg_jagdschloss_gruenau', 'München, Jesuitenkirche St. Michael': 'muenchen_jesuitenkirche_st_michael', 'München, Jesuitenkolleg': 'muenchen_jesuitenkolleg', 'Große Karte von Bayern': 'muenchen_grosse_karte', 'Kruzifix der Kreuzigungsgruppe': 'muenchen_kruzifix_jesuitenkirche', 'Stuttgart, Altes Schloss, Kunstkammer der Herzöge von Württemberg': 'kunstkammer_stuttgart', 'München, Marstall- und Kunstkammergebäude': 'muenchen_kunstkammergebaeude', 'Ingolstadt, Liebfrauenmünster': 'ingolstadt_liebfrauenmuenster', 'Stuttgart, Lustgarten, Neues Lusthaus': 'lusthaus_stuttgart', 'Weinende Maria Magdalena der Kreuzigungsgruppe': 'muenchen_magdalena_jesuitenkirche', 'Eichstätt, Marienstein, Augustinerinnenkloster mit Kirche St. Anna': 'eichstaett_marienstein', 'Neuburg an der Donau, Marstall': 'neuburg_marstall', 'Karien, Mausoleum von Halikarnassos': 'mausoleum_halikarnassos', 'Baden-Baden, Neues Schloss': 'baden-baden_neues_schloss', 'Ingolstadt, Neues Schloss': 'ingolstadt_neues_schloss', 'Speyer, Dom St. Maria und Stephan, Ölberg': 'speyer_oelberg', 'Padua, Palazzo della Ragione': 'padua_palazzo_della_ragione', 'Perseusbrunnen': 'muenchen_perseusbrunnen', 'Pommerscher Kunstschrank': 'pommerscher_kunstschrank', 'Pratolino, Medici-Villa von': 'pratolino', 'München, Altes Rathaus': 'muenchen_altes_rathaus', 'Altes Rathaus': 'pforzheim_altes_rathaus', 'Regensburg, Altes Rathaus': 'regensburg_altes_rathaus', 'Nürnberg, Rathaus': 'nuernberg_rathaus', 'Eichstätt, Rebdorf, Augustinerchorherrenstift mit Kirche St. Johannes d. T.': 'eichstaett_rebdorf', 'Reichskleinodien': 'reichskleinodien', 'München, Residenz, Reiche Kapelle St. Maria der Residenz': 'muenchen_reiche_kapelle', 'Stettin, Residenzschloss': 'stettin_residenzschloss', 'München, Residenz': 'muenchen_residenz', 'Venedig, Basilica di San Marco': 'venedig_san_marco', 'Rom, San Tommaso in Parione': 'rom_san_tommaso_in_parione', 'Heidelberg, Schloss, Schatz- und Kunstkammer': 'heidelberg_schatz-_und_kunstkammer', 'Oberschleißheim, Altes Schloss Schleißheim mit Schwaige': 'schleissheim_schloss_altes', 'Günzburg, Schloss': 'guenzburg_schloss', 'Heidelberg, Schloss': 'heidelberg_schloss', 'Schloss Höchstädt': 'schloss_hoechstaedt', 'Neuburg an der Donau, Schloss Neuburg': 'neuburg_schloss', 'Durlach, Schloss Karlsburg': 'durlach_schloss_karlsburg', 'Linz, Schloss Linz': 'linz_schloss', 'Pforzheim, Schloss Pforzheim': 'schloss_pforzheim', 'Eichstätt, Willibaldsburg, Schlossgärten': 'eichstaett_schlossgaerten', 'Heidelberg, Schloss, Schlossgärten': 'hortus_palatinus', 'Neuburg an der Donau, Schloss Neuburg, Schlosskapelle': 'neuburg_schlosskapelle', 'Stuttgart, Altes Schloss, Schlosskirche': 'Stuttgart_schlosskirche', 'Baden-Baden, Stiftskirche Unserer Lieben Frau': 'baden-baden_stiftskirche', 'Stuttgart, Stiftskirche zum Heiligen Kreuz': 'stuttgart_stiftskirche', 'Pforzheim, Schloss- und Stiftskirche St. Michael mit Grablege der badischen Markgrafen': 'pforzheim_schloss-_und_stiftskirche_st_michael', 'Einband zum sogenannten Gebetbuch Maximilians I. von Bayern': 'muenchen_silbereinband_gebetbuch_maximilian_1', 'Köln, St. Aposteln': 'koeln_st_aposteln', 'Augsburg, St. Anna': 'augsburg_st_anna', 'Dachau, St. Jakob': 'dachau_st_jakob', 'Nürnberg, St. Jakob': 'nuernberg_st_jakob', 'Rostock, St. Jakob': 'rostock_st_jakob', 'Nürnberg, St. Lorenz': 'nuernberg_st_lorenz', 'Lüttich, St. Martin': 'luettich_st_martin', 'München, St. Peter': 'muenchen_st_peter', 'Prag, St. Veit': 'prag_st_veit', 'Eichstätt, St. Walburg': 'eichstaett_st_walburg', 'Leonberg, ev. Stadtpfarrkirche St. Johannes der Täufer': 'leonberg_stadtpfarrkirche_st_johannes', 'Stiftskirche Berlin-Kölln': 'stiftskirche_berlin', 'Jerusalem, Tempel Salomos': 'tempel_salomos', 'Jerusalem, Zweiter Tempel': 'tempel_zweiter', 'Eichstätt, Willibaldsburg': 'eichstaett_willibaldsburg'}\n"
     ]
    }
   ],
   "source": [
    "# Objektregister Hainhofer\n",
    "\n",
    "from lxml import etree as ET\n",
    "import pandas as pd\n",
    "\n",
    "# Load XML file\n",
    "file_path = 'hainhofer-lod.xml'\n",
    "tree = ET.parse(file_path)\n",
    "root = tree.getroot()\n",
    "\n",
    "# Define namespaces\n",
    "namespaces = {\n",
    "    'tei': 'http://www.tei-c.org/ns/1.0',\n",
    "    \"schema\": \"http://schema.org/\",\n",
    "    \"rdf\": \"http://www.w3.org/1999/02/22-rdf-syntax-ns#\",\n",
    "    \"rdfs\": \"http://www.w3.org/2000/01/rdf-schema#\"\n",
    "}\n",
    "\n",
    "# The base URL you want to filter for\n",
    "base_url = \"https://hainhofer.hab.de/register/objekte/\"\n",
    "\n",
    "# Result dictionary\n",
    "object_to_wrk = {}\n",
    "\n",
    "# Loop through all rdf:Description elements\n",
    "for objectname in root.findall(\".//rdf:Description\", namespaces):\n",
    "    object = objectname.find(\"rdfs:label\", namespaces)\n",
    "    wrk = objectname.find(\"schema:mainEntityOfPage\", namespaces)\n",
    "\n",
    "    # Iterate only through the relevant elements\n",
    "    if object is None or wrk is None or not wrk.text.startswith(base_url):\n",
    "        continue  # Skip this entry if any part is missing or URL doesn't match the prefix\n",
    "\n",
    "    # Remove the URL prefix and store the result\n",
    "    url = wrk.text[42:]\n",
    "    object_to_wrk[object.text] = url\n",
    "\n",
    "# Output the final result\n",
    "print(object_to_wrk)\n",
    "\n",
    "# Save the result to an output file\n",
    "df = pd.DataFrame(list(object_to_wrk.items()), columns=['object', 'wrk'])\n",
    "df.to_excel('register_objekte_wrk.xlsx', index=False)\n",
    "df.to_csv('register_objekte_wrk.csv', index=False)"
   ]
  }
 ],
 "metadata": {
  "kernelspec": {
   "display_name": "Python 3",
   "language": "python",
   "name": "python3"
  },
  "language_info": {
   "codemirror_mode": {
    "name": "ipython",
    "version": 3
   },
   "file_extension": ".py",
   "mimetype": "text/x-python",
   "name": "python",
   "nbconvert_exporter": "python",
   "pygments_lexer": "ipython3",
   "version": "3.13.2"
  }
 },
 "nbformat": 4,
 "nbformat_minor": 5
}
