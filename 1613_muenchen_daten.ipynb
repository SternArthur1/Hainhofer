{
 "cells": [
  {
   "cell_type": "code",
   "execution_count": 3,
   "id": "e3fec367",
   "metadata": {},
   "outputs": [],
   "source": [
    "import xml.etree.ElementTree as ET\n",
    "\n",
    "# Load and parse the XML file\n",
    "file_path = '1613_muenchen.xml'\n",
    "tree = ET.parse('1613_muenchen.xml')\n",
    "root = tree.getroot()\n",
    "\n",
    "# Register namespace\n",
    "namespaces = {'tei': 'http://www.tei-c.org/ns/1.0'}\n",
    "\n",
    "# Find all elements with type=\"person\"\n",
    "dates = root.findall('.//*[@type=\"date\"]', namespaces)\n",
    "\n",
    "# Function to recursively extract text content\n",
    "def extract_text_recursive(elem):\n",
    "    \"\"\"Recursively extract all text from an element including its children.\"\"\"\n",
    "    return ''.join(elem.itertext()).strip()\n",
    "\n",
    "# Extract and clean person names\n",
    "dates = [extract_text_recursive(elem) for elem in dates if extract_text_recursive(elem)]\n",
    "\n",
    "# Output preview\n",
    "for date in dates:\n",
    "    print(date)\n"
   ]
  }
 ],
 "metadata": {
  "kernelspec": {
   "display_name": "Python 3",
   "language": "python",
   "name": "python3"
  },
  "language_info": {
   "codemirror_mode": {
    "name": "ipython",
    "version": 3
   },
   "file_extension": ".py",
   "mimetype": "text/x-python",
   "name": "python",
   "nbconvert_exporter": "python",
   "pygments_lexer": "ipython3",
   "version": "3.13.2"
  }
 },
 "nbformat": 4,
 "nbformat_minor": 5
}
