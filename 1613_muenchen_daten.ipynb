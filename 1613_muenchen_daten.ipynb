{
 "cells": [
  {
   "cell_type": "code",
   "execution_count": 2,
   "id": "e3fec367",
   "metadata": {},
   "outputs": [
    {
     "name": "stdout",
     "output_type": "stream",
     "text": [
      "10\n",
      "10 Nouember\n",
      "10 Nouembris\n",
      "10.\n",
      "10. Nouember 1613\n",
      "11.\n",
      "                            Nouember\n",
      "11. Nouember\n",
      "11. dito\n",
      "12.\n",
      "                            Nouember\n",
      "12. Nouember\n",
      "12. Nouembris\n",
      "13.\n",
      "                        Dito\n",
      "13. Nouember\n",
      "13. Nouembris\n",
      "13dito\n",
      "14. Nouember\n",
      "14. Nouembris\n",
      "15. Nouembris\n",
      "16. Nouembris\n",
      "17.\n",
      "                            Nouember Anno \n",
      "                            etc\n",
      "                            et cetera\n",
      "                         1613\n",
      "18. Nouember\n",
      "19.\n",
      "20.\n",
      "                                    Nouembris 1627\n",
      "22. Octobris\n",
      "29.\n",
      "                        October\n",
      "30\n",
      "7\n",
      "8\n",
      "8.\n",
      "8.\n",
      "                        Nouember\n",
      "8. Nouembris Anno 1613\n",
      "9\n",
      "9.\n",
      "9.\n",
      "                            Nouember\n",
      "9. detto\n",
      "M. DC. XIII. Tertio\n",
      "                            Idus Nouembris\n",
      "in die\n",
      "                                Conuersionis Sancti Pauli, Annoam Tag der\n",
      "                                Bekehrung des hl. Paulus 1614\n",
      "zwölfftenNouembris\n"
     ]
    }
   ],
   "source": [
    "import xml.etree.ElementTree as ET\n",
    "\n",
    "# XML-Datei einlesen\n",
    "file_path = '1613_muenchen.xml'\n",
    "tree = ET.parse(file_path)\n",
    "root = tree.getroot()\n",
    "\n",
    "# TEI-Namespace registrieren\n",
    "namespaces = {'tei': 'http://www.tei-c.org/ns/1.0'}\n",
    "\n",
    "# Alle Datumsangaben finden\n",
    "dates = root.findall('.//tei:date', namespaces)\n",
    "\n",
    "# Funktion zur Rekursion durch den XML-Baum\n",
    "def extract_text_recursive(elem):\n",
    "    return ''.join(elem.itertext()).strip()\n",
    "\n",
    "# Orte extrahieren\n",
    "all_dates = {extract_text_recursive(elem) for elem in dates if extract_text_recursive(elem)}\n",
    "\n",
    "# Alphabetisch geordnete Wertausgabe\n",
    "for date in sorted(all_dates):\n",
    "    print(date)"
   ]
  }
 ],
 "metadata": {
  "kernelspec": {
   "display_name": "Python 3",
   "language": "python",
   "name": "python3"
  },
  "language_info": {
   "codemirror_mode": {
    "name": "ipython",
    "version": 3
   },
   "file_extension": ".py",
   "mimetype": "text/x-python",
   "name": "python",
   "nbconvert_exporter": "python",
   "pygments_lexer": "ipython3",
   "version": "3.13.2"
  }
 },
 "nbformat": 4,
 "nbformat_minor": 5
}
