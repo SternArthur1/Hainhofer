{
 "cells": [
  {
   "cell_type": "code",
   "execution_count": 1,
   "id": "2a1bb22d",
   "metadata": {},
   "outputs": [
    {
     "name": "stdout",
     "output_type": "stream",
     "text": [
      "Requirement already satisfied: lxml in c:\\users\\dell\\appdata\\local\\programs\\python\\python313\\lib\\site-packages (5.3.1)\n",
      "Note: you may need to restart the kernel to use updated packages.\n"
     ]
    }
   ],
   "source": [
    "%pip install lxml"
   ]
  },
  {
   "cell_type": "code",
   "execution_count": 2,
   "id": "c289de4d",
   "metadata": {},
   "outputs": [
    {
     "name": "stdout",
     "output_type": "stream",
     "text": [
      "Requirement already satisfied: html5lib in c:\\users\\dell\\appdata\\local\\programs\\python\\python313\\lib\\site-packages (1.1)\n",
      "Requirement already satisfied: six>=1.9 in c:\\users\\dell\\appdata\\local\\programs\\python\\python313\\lib\\site-packages (from html5lib) (1.17.0)\n",
      "Requirement already satisfied: webencodings in c:\\users\\dell\\appdata\\local\\programs\\python\\python313\\lib\\site-packages (from html5lib) (0.5.1)\n",
      "Note: you may need to restart the kernel to use updated packages.\n"
     ]
    }
   ],
   "source": [
    "%pip install html5lib"
   ]
  },
  {
   "cell_type": "code",
   "execution_count": 18,
   "id": "11b78157",
   "metadata": {},
   "outputs": [],
   "source": [
    "from lxml import etree\n",
    "\n",
    "# Dokument parsen\n",
    "tree = etree.parse(\"register.xhtml\")\n",
    "\n",
    "# XPath: alle <div>-Elemente mit einem Klassenattribut\n",
    "divs_with_class = tree.xpath('//div[@class]')\n",
    "\n",
    "# Tags und Werte drucken\n",
    "for div in divs_with_class:\n",
    "    print(f\"Tag: {div.tag}, Class: {div.attrib['class']}\")"
   ]
  },
  {
   "cell_type": "code",
   "execution_count": null,
   "id": "19a161bf",
   "metadata": {},
   "outputs": [],
   "source": []
  },
  {
   "cell_type": "code",
   "execution_count": null,
   "id": "c97875dd",
   "metadata": {},
   "outputs": [],
   "source": [
    "from lxml import html\n",
    "\n",
    "# Parse the HTML\n",
    "tree = html.fromstring(html_content)\n",
    "\n",
    "# Find all divs with a class attribute\n",
    "divs_with_class = tree.xpath('//div[@class]')\n",
    "\n",
    "# Print class names\n",
    "for div in divs_with_class:\n",
    "    print(div.attrib['class'])"
   ]
  },
  {
   "cell_type": "code",
   "execution_count": null,
   "id": "8b51964c",
   "metadata": {},
   "outputs": [],
   "source": [
    "class_names = set()\n",
    "\n",
    "for div in soup.find_all(\"div\", class_=True):\n",
    "    for cls in div[\"class\"]:\n",
    "        class_names.add(cls)\n",
    "\n",
    "print(sorted(class_names))"
   ]
  },
  {
   "cell_type": "code",
   "execution_count": 17,
   "id": "d778d2bf",
   "metadata": {},
   "outputs": [],
   "source": [
    "from lxml import etree\n",
    "\n",
    "# Parsen des Dokuments\n",
    "file_path = 'register.xhtml'\n",
    "tree = ET.parse(file_path)\n",
    "root = tree.getroot()\n",
    "\n",
    "namespaces = {'tei': 'http://www.tei-c.org/ns/1.0'}\n",
    "\n",
    "# Alle <div>-Tags mit einer class\n",
    "divs = root.findall('.//div class', namespaces)\n",
    "\n",
    "# Alle Klassennamen extrahieren und ausgeben\n",
    "for div in divs:\n",
    "    classes = div.get(\"class\")\n",
    "    \n",
    "    # Wenn das div eine class hat, wird sie ausgegeben\n",
    "    print(classes)\n",
    "    print()\n"
   ]
  },
  {
   "cell_type": "code",
   "execution_count": null,
   "id": "4bf0684a",
   "metadata": {},
   "outputs": [],
   "source": [
    "import xml.etree.ElementTree as ET\n",
    "\n",
    "# Load and parse the XML file\n",
    "file_path = 'register.xhtml'\n",
    "tree = ET.parse(file_path)\n",
    "root = tree.getroot()\n",
    "\n",
    "# Register namespace\n",
    "namespaces = {'tei': 'http://www.tei-c.org/ns/1.0'}\n",
    "\n",
    "# Find all elements with type=\"person\"\n",
    "persons = root.findall('.//*[@type=\"psn\"]', namespaces)\n",
    "\n",
    "# Function to recursively extract text content\n",
    "def extract_text_recursive(elem):\n",
    "    return ''.join(elem.itertext()).strip()\n",
    "\n",
    "# Extract and clean person names\n",
    "persons = [extract_text_recursive(elem) for elem in persons if extract_text_recursive(elem)]\n",
    "\n",
    "# Output preview\n",
    "for person in persons:\n",
    "    print(person)"
   ]
  }
 ],
 "metadata": {
  "kernelspec": {
   "display_name": "Python 3",
   "language": "python",
   "name": "python3"
  },
  "language_info": {
   "codemirror_mode": {
    "name": "ipython",
    "version": 3
   },
   "file_extension": ".py",
   "mimetype": "text/x-python",
   "name": "python",
   "nbconvert_exporter": "python",
   "pygments_lexer": "ipython3",
   "version": "3.13.2"
  }
 },
 "nbformat": 4,
 "nbformat_minor": 5
}
