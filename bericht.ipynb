{
 "cells": [
  {
   "cell_type": "markdown",
   "metadata": {},
   "source": [
    "Bericht: Philipp Hainhofer\n",
    "Reiseberichte und Sammlungsbeschreibungen 1594-1636\n",
    "\n",
    "Unser Projekt basiert auf dem Quellenkorpus der digitalen Edition von Philipp Hainhofers Reise- und Sammlungsbeschreibungen (1594-1636), die systematisch erschlossen und für computergestützte Analyse zugänglich gemacht wurden. Das Projekt wird von der Deutschen Forschungsgemeinschaft gefördert und ist eine Kooperation zwischen der Herzog August Bibliothek und der Universität Trier.\n",
    "Im Zentrum stehen Hainhofers Reisen an europäische Höfe, seine diplomatischen Missionen und seine Rolle als Kunstvermittler. Die Texte bieten Einblicke in politische, kulturelle und materielle Austauschprozesse des 17. Jahrhunderts.\n",
    "Diese digitale Edition erschliesst diese Quelle erstmals systematisch und macht sie so für die computergestützte Analyse nutzbar.\n",
    "\n",
    "Philipp Hainhofer war eine zentrale Figur des kulturellen Austauschs im frühneuzeitlichen Europa. Als „cultural broker“ (Einführungstext der Edition und Datensammlung zur Kunst- und Kulturgeschichte der ersten Hälfte des 17. Jahrhunderts, hrsg. und eingeleitet von Michael Wenzel, Wolfenbüttel: Herzog August Bibliothek, 2020–2025)  bewegte er sich zwischen Politik, Diplomatie, Kunsthandel und höfischer Kultur. Seine Reiserelationen bilden den Kern seines schriftlichen Nachlasses und sind eine wertvolle Quelle für Kunstgeschichte, Geschichtswissenschaften und angrenzende Disziplinen.\n",
    "Ziel des Editionsprojekts ist die digitale Erschliessung dieser Reiseberichte - durch Faksimiles, Volltexte, kritische Apparate und Sachkommentare. Die Reiseberichte von 1603 bis 1636 sind bereits digital ediert und weitere folgen bis zum geplanten Projektabschluss im Jahr 2029. Neben der quellenkritischen Aufbereitung verfolgt das Projekt zwei wissenschaftliche Leitziele: die Untersuchung kultureller Vermittlung in einem konfliktreichen Europa und einen interdisziplinären Ansatz, der historische und kunsthistorische Perspektiven integriert. (Kommentierung zur Edition https://www.hab.de/kommentierte-digitale-edition-der-reise-und-sammlungsbeschreibungen-philipp-hainhofers-1578-1647/ letzter Zugriff 5.7.25)\n",
    "\n",
    "Wer war Philipp Hainhofer?\n",
    "Philipp Hainhofer (1578-1647) war eine bedeutende Vermittlerfigur im Europa des 17. Jahrhunderts. Er wurde in Augsburg geboren, studierte unter anderem in Italien und verfügte über umfangreiche Sprachkenntnisse, die ihm seine spätere, internationale Tätigkeit ermöglichten.\n",
    "Er war im Auftrag verschiedener Fürsten, Diplomaten und Städten tätig - unabhängig von deren Konfession - und pflegte ein weit verzweigtes Netzwerk in ganz Europa. Als sogenannter „cultural broker“ überschritt er politische, religiöse und kulturelle Grenzen und vermittelte nicht nur Kunstobjekte, Bücher und Möbel, sondern auch Informationen, Kontakte und Wissen.\n",
    "Die Hauptphase seiner Tätigkeit lag zwischen 1610 und 1620. Aus diesem Zeitraum stammen auch die meisten der Reiseberichte, die wir für unser Projekt ausgewertet haben.\n",
    "\n",
    "Der verwendete Quellenkorpus ist aus mehreren Gründen gut für unser Projekt geeignet:\n",
    "Die Texte liegen bereits strukturiert vor, sind digital durchsuchbar und für maschinelle Auswertungen aufbereitet.\n",
    "Inhaltlich bieten sie detaillierte Einblicke in die politischen, sozialen und kulturellen Netzwerke des 17. Jahrhunderts. Hainhofer dokumentiert seine Begegnungen, den Austausch von Objekten, die Beschreibung von Orten sowie den jeweiligen politischen Kontext.\n",
    "Zudem zeichnet sich der Korpus durch eine grosse zeitliche und räumliche Spannweite aus. Er umfasst über vier Jahrzehnte Reisetätigkeit und zahlreiche europäische Regionen. Diese Eigenschaften machen ihn besonders geeignet für digitale Methoden wie Netzwerkanalyse oder geobasierte Visualisierungen. Dies ist eine ideale Grundlage um mit digitalen Methoden Netzwerke, Bewegungen und Austauschprozesse sichtbar zu machen.\n",
    "\n",
    "Die zentrale Forschungsfrage unseres Projekts lautet: Wie verändern sich Hainhofers Netzwerke im Zeitverlauf, und welche Rolle spielen dabei Konfession und soziale Stellung der besuchten Personen?\n",
    "Ziel ist es, zu untersuchen, ob und wie sich Zusammensetzung seines Kontaktnetzwerks über die Jahre verschieben. Filter, welche uns geeignet erschienen waren: Zeiträume, geografische Regionen und konfessionelle Zugehörigkeit. \n",
    "\n",
    "Im ersten Schritt haben wir das Tool Voyant genutzt, um häufig vorkommende Begriffe im Korpus zu identifizieren und so erste inhaltliche Schwerpunkte und mögliche Ansatzpunkte für die vertiefende Analyse zu erkennen.\n",
    "\n",
    "Im weiteren Verlauf des Projekts haben wir uns dazu entschieden, mit den Personen- und Objekteregistern  der digitalen Edition zu arbeiten. Dabei zeigte sich, dass die tabellarische Erfassung am besten geeignet ist, um Personen, Orte und Objekte systematisch zu dokumentieren und eine Auswertung zu ermöglichen. Unser Vorgehen sieht daher vor, zunächst eine einzelne Reise vollständig zu erschliessen und darauf aufbauend das Projekt schrittweise zu erweitern.\n",
    "    \n",
    "Vorgehen\n",
    "Ausgangspunkt ist die Arbeit mit den vorhandenen Registern, aus denen wir relevante Entitäten (insbesondere Personen und Orte) im XML-Format extrahieren. Im nächsten Schritt erfolgt ein Entity Matching mit externen Referenzdaten aus dem Bereich der Linked Open Data (LOD), um die Einträge eindeutig zuzuordnen und anzureichern.\n",
    "Für die geobasierte Analyse werden die geografischen Koordinaten der erfassten Orte über den Dienst Geonames abgerufen. Darauf aufbauend erfolgt die Visualisierung der besuchten Orte sowie die Visualisierung der in den Texten beschriebenen Netzwerke.\n",
    "\n",
    "Weiterführende Forschung\n",
    "Potenzielle weiterführende Forschungsideen ergeben sich insbesondere aus der Skalierbarkeit von unserem Ansatz. Eine Möglichkeit besteht darin, die Analyse auf weitere Reisen Philipp Hainhofers auszuweiten. Die systematische Erfassung zusätzlicher Reiseberichte würde es erlauben, Veränderungen in Struktur und Zusammensetzung seines Netzwerks über längere Zeiträume hinweg zu analysieren: zum Beispiel im Zusammenhang mit politischen Umbrüchen wie dem Dreissigjährigen Krieg.\n",
    "\n",
    "Darüber hinaus bietet der Einsatz von Entity Matching mit Linked Open Data grosses Potenzial für die kontextuelle Anreicherung historischer Daten. Durch die Anbindung an etablierte Datenquellen könnten biografische, geografische und soziale Informationen ergänzt und vertieft werden.\n",
    "\n",
    "Eine weitere Ausbaumöglichkeit liegt in der Entwicklung dynamischer, zeitbasierter Visualisierungen. Interaktive Karten mit Zeitachsen könnten weitere Muster in Hainhofers Reisetätigkeit sichtbar machen: beispielsweise hinsichtlich Reisedauer, wiederholt besuchter Orte oder der Dichte und Stabilität seiner Netzwerke über die Zeit hinweg."
   ]
  },
  {
   "cell_type": "code",
   "execution_count": null,
   "metadata": {
    "vscode": {
     "languageId": "plaintext"
    }
   },
   "outputs": [],
   "source": []
  },
  {
   "cell_type": "markdown",
   "metadata": {},
   "source": []
  }
 ],
 "metadata": {
  "language_info": {
   "name": "python"
  }
 },
 "nbformat": 4,
 "nbformat_minor": 2
}
