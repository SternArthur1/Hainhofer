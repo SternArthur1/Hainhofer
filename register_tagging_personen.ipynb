{
 "cells": [
  {
   "cell_type": "code",
   "execution_count": null,
   "id": "8cb84b02",
   "metadata": {},
   "outputs": [],
   "source": [
    "# Personenregister Hainhofer\n",
    "\n",
    "from lxml import etree as ET\n",
    "\n",
    "# Load XML file\n",
    "file_path = 'hainhofer-lod.xml'\n",
    "tree = ET.parse(file_path)\n",
    "root = tree.getroot()\n",
    "\n",
    "# Define namespaces\n",
    "namespaces = {\n",
    "    'tei': 'http://www.tei-c.org/ns/1.0',\n",
    "    \"schema\": \"http://schema.org/\",\n",
    "    \"rdf\": \"http://www.w3.org/1999/02/22-rdf-syntax-ns#\",\n",
    "    \"rdfs\": \"http://www.w3.org/2000/01/rdf-schema#\"\n",
    "}\n",
    "\n",
    "# The base URL you want to filter for\n",
    "base_url = \"https://hainhofer.hab.de/register/personen/\"\n",
    "\n",
    "# Result dictionary\n",
    "person_to_psn = {}\n",
    "\n",
    "# Loop through all rdf:Description elements\n",
    "for personname in root.findall(\".//rdf:Description\", namespaces):\n",
    "    person = personname.find(\"rdfs:label\", namespaces)\n",
    "    psn = personname.find(\"schema:mainEntityOfPage\", namespaces)\n",
    "\n",
    "    # Iterate only through the relevant elements\n",
    "    if personname is None or psn is None or not psn.text.startswith(base_url):\n",
    "        continue  # Skip this entry if any part is missing or URL doesn't match the prefix\n",
    "\n",
    "    # Remove the URL prefix and store the result\n",
    "    url = psn.text[43:]\n",
    "    person_to_psn[person.text] = url\n",
    "\n",
    "# Output the final result\n",
    "print(person_to_psn)\n",
    "\n",
    "# Save the result to a file"
   ]
  }
 ],
 "metadata": {
  "language_info": {
   "name": "python"
  }
 },
 "nbformat": 4,
 "nbformat_minor": 5
}
