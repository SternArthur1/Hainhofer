{
 "cells": [
  {
   "cell_type": "code",
   "execution_count": null,
   "id": "777be8a3",
   "metadata": {},
   "outputs": [],
   "source": [
    "# Ortsregister Hainhofer\n",
    "\n",
    "from lxml import etree as ET\n",
    "\n",
    "# Load XML file\n",
    "file_path = 'hainhofer-lod.xml'\n",
    "tree = ET.parse(file_path)\n",
    "root = tree.getroot()\n",
    "\n",
    "# Define namespaces\n",
    "namespaces = {\n",
    "    'tei': 'http://www.tei-c.org/ns/1.0',\n",
    "    \"schema\": \"http://schema.org/\",\n",
    "    \"rdf\": \"http://www.w3.org/1999/02/22-rdf-syntax-ns#\",\n",
    "    \"rdfs\": \"http://www.w3.org/2000/01/rdf-schema#\"\n",
    "}\n",
    "\n",
    "# The base URL you want to filter for\n",
    "base_url = \"https://hainhofer.hab.de/register/orte/\"\n",
    "\n",
    "# Result dictionary\n",
    "place_to_plc = {}\n",
    "\n",
    "# Loop through all rdf:Description elements\n",
    "for placename in root.findall(\".//rdf:Description\", namespaces):\n",
    "    place = placename.find(\"rdfs:label\", namespaces)\n",
    "    plc = placename.find(\"schema:mainEntityOfPage\", namespaces)\n",
    "\n",
    "    # Iterate only through the relevant elements\n",
    "    if place is None or plc is None or not plc.text.startswith(base_url):\n",
    "        continue  # Skip this entry if any part is missing or URL doesn't match the prefix\n",
    "\n",
    "    # Remove the URL prefix and store the result\n",
    "    url = plc.text[39:]\n",
    "    place_to_plc[place.text] = url\n",
    "\n",
    "# Output the final result\n",
    "print(place_to_plc)\n",
    "\n",
    "# Save the result to a file"
   ]
  }
 ],
 "metadata": {
  "language_info": {
   "name": "python"
  }
 },
 "nbformat": 4,
 "nbformat_minor": 5
}
